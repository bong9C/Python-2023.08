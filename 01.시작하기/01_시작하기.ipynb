{
  "cells": [
    {
      "cell_type": "markdown",
      "metadata": {
        "id": "Ho1IQVCajSA0"
      },
      "source": [
        "# 파이썬 시작하기"
      ]
    },
    {
      "cell_type": "code",
      "execution_count": 23,
      "metadata": {
        "id": "LQtKt3dW9pBD"
      },
      "outputs": [],
      "source": [
        "# 2023년 8월 현재 Colap에 설치되어 있는 파이썬 버전 확인"
      ]
    },
    {
      "cell_type": "code",
      "execution_count": 22,
      "metadata": {
        "colab": {
          "base_uri": "https://localhost:8080/"
        },
        "id": "9xIIZjIs9TNj",
        "outputId": "2be640f4-cd81-4302-b5e7-ae03adcf3a59"
      },
      "outputs": [
        {
          "name": "stdout",
          "output_type": "stream",
          "text": [
            "Python 3.10.12\n"
          ]
        }
      ],
      "source": [
        "!python --version"
      ]
    },
    {
      "cell_type": "code",
      "execution_count": 6,
      "metadata": {
        "id": "MykhHRxekRLd"
      },
      "outputs": [],
      "source": [
        "### 1. 세미콜론(;)"
      ]
    },
    {
      "cell_type": "code",
      "execution_count": 7,
      "metadata": {
        "colab": {
          "base_uri": "https://localhost:8080/"
        },
        "id": "PBIFrZ0KkUET",
        "outputId": "dc5b649f-7af6-4f9d-a999-fb2b6068e9fb"
      },
      "outputs": [
        {
          "name": "stdout",
          "output_type": "stream",
          "text": [
            "Hello\n"
          ]
        }
      ],
      "source": [
        "# 문장 끝에 세미콜론(;)을 붙이지 않는다.\n",
        "print('Hello')"
      ]
    },
    {
      "cell_type": "code",
      "execution_count": 8,
      "metadata": {
        "colab": {
          "base_uri": "https://localhost:8080/"
        },
        "id": "VGHjY9CLkbEu",
        "outputId": "09226391-a131-4d67-dd31-44ced978ad32"
      },
      "outputs": [
        {
          "name": "stdout",
          "output_type": "stream",
          "text": [
            "Hello\n",
            "worid\n"
          ]
        }
      ],
      "source": [
        "# 한 줄에 여러 문장을 사용할 경우에는 세미콜론을 사용함.\n",
        "print('Hello'); print('worid')"
      ]
    },
    {
      "cell_type": "markdown",
      "metadata": {
        "id": "qeHZIPoNk5AG"
      },
      "source": [
        "2. 주석(Comment)"
      ]
    },
    {
      "cell_type": "code",
      "execution_count": 9,
      "metadata": {
        "colab": {
          "base_uri": "https://localhost:8080/"
        },
        "id": "oA5EuIaMk97n",
        "outputId": "9e2b08b7-3a9f-4732-e718-1f059cfe673f"
      },
      "outputs": [
        {
          "name": "stdout",
          "output_type": "stream",
          "text": [
            "Hello\n"
          ]
        }
      ],
      "source": [
        "# 한 줄짜리 주석\n",
        "print('Hello')    # 문장 뒤에 사용하는 주석"
      ]
    },
    {
      "cell_type": "code",
      "execution_count": 10,
      "metadata": {
        "colab": {
          "base_uri": "https://localhost:8080/",
          "height": 35
        },
        "id": "jVAOZj8llJVa",
        "outputId": "3a2b2738-4111-43bc-c1af-8dc395cd5ece"
      },
      "outputs": [
        {
          "data": {
            "application/vnd.google.colaboratory.intrinsic+json": {
              "type": "string"
            },
            "text/plain": [
              "'\\n원래는 멀티 라인 문자열로 사용됨\\n주석으로도 사용됨\\n'"
            ]
          },
          "execution_count": 10,
          "metadata": {},
          "output_type": "execute_result"
        }
      ],
      "source": [
        "# 여러줄의 주석\n",
        "# 여러줄의 주석\n",
        "'''\n",
        "원래는 멀티 라인 문자열로 사용됨\n",
        "주석으로도 사용됨\n",
        "'''"
      ]
    },
    {
      "cell_type": "code",
      "execution_count": 11,
      "metadata": {
        "id": "UNTr-77xlivY"
      },
      "outputs": [],
      "source": [
        "# \"\"\" \"\"\" 도 ''' ''' 과 동일하게 사용 됨"
      ]
    },
    {
      "cell_type": "code",
      "execution_count": 12,
      "metadata": {
        "id": "oUIjisvhlxTI"
      },
      "outputs": [],
      "source": [
        "### 3. 들여쓰기(Indentation)"
      ]
    },
    {
      "cell_type": "code",
      "execution_count": 13,
      "metadata": {
        "colab": {
          "base_uri": "https://localhost:8080/"
        },
        "id": "wvUwtJRbmV95",
        "outputId": "9306e227-05cc-4136-810b-4b953ba8a56e"
      },
      "outputs": [
        {
          "name": "stdout",
          "output_type": "stream",
          "text": [
            "홀수\n"
          ]
        }
      ],
      "source": [
        "num = 3\n",
        "if num % 2 == 1:\n",
        "  print('홀수')"
      ]
    },
    {
      "cell_type": "code",
      "execution_count": 19,
      "metadata": {
        "colab": {
          "base_uri": "https://localhost:8080/"
        },
        "id": "E8n4TYFqnK5C",
        "outputId": "bf019c54-af72-45a1-d958-b695b4cb4378"
      },
      "outputs": [
        {
          "name": "stdout",
          "output_type": "stream",
          "text": [
            "for loop이 돌 때 마다 찍힘: 1\n",
            "for loop이 돌 때 마다 찍힘: 3\n",
            "for loop이 돌 때 마다 찍힘: 6\n",
            "for loop이 돌 때 마다 찍힘: 10\n",
            "for loop이 돌 때 마다 찍힘: 15\n",
            "for loop이 돌 때 마다 찍힘: 21\n",
            "for loop이 돌 때 마다 찍힘: 28\n",
            "for loop이 돌 때 마다 찍힘: 36\n",
            "for loop이 돌 때 마다 찍힘: 45\n",
            "for loop이 돌 때 마다 찍힘: 55\n",
            "for loop이 끝난 후 찍힘: 55\n"
          ]
        }
      ],
      "source": [
        "sum = 0\n",
        "for i in range(1,11):\n",
        "    sum += i\n",
        "    print('for loop이 돌 때 마다 찍힘:', sum)\n",
        "print('for loop이 끝난 후 찍힘:', sum)"
      ]
    },
    {
      "cell_type": "markdown",
      "metadata": {
        "id": "FUWNRQFvsKsy"
      },
      "source": [
        "4. 코드 블록"
      ]
    },
    {
      "cell_type": "code",
      "execution_count": 21,
      "metadata": {
        "colab": {
          "base_uri": "https://localhost:8080/"
        },
        "id": "PFHEDFrasHCC",
        "outputId": "24136d8c-8c01-4807-f306-f6152d0a82bb"
      },
      "outputs": [
        {
          "name": "stdout",
          "output_type": "stream",
          "text": [
            "55\n",
            "홀수 입니다.\n"
          ]
        }
      ],
      "source": [
        "# 콜론(:)과 이후 들여쓰기로 코드 블록이 결정됨\n",
        "if sum % 2 == 1:\n",
        "  print(sum)\n",
        "  print('홀수 입니다.')"
      ]
    },
    {
      "cell_type": "code",
      "execution_count": null,
      "metadata": {
        "id": "V1wqHCWpsiNF"
      },
      "outputs": [],
      "source": []
    }
  ],
  "metadata": {
    "colab": {
      "provenance": []
    },
    "kernelspec": {
      "display_name": "Python 3",
      "name": "python3"
    },
    "language_info": {
      "name": "python",
      "version": "3.11.4"
    }
  },
  "nbformat": 4,
  "nbformat_minor": 0
}
