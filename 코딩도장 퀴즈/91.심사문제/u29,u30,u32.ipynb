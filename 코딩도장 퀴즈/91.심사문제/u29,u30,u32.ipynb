{
 "cells": [
  {
   "cell_type": "markdown",
   "metadata": {},
   "source": [
    "### 선생님의 재밌는 문제\n",
    "- 디지털 시계가 있다\n",
    "    - 00 : 00 ~ 23 : 59\n",
    "    - 하루중 3이 표시되는 시간은 몇초인가?\n",
    "    - 총합계를 구하는것\n",
    "    - ex) 디지털 시계 안에, 3이라는 숫자가 나올때마다 걸리는 초구함\n",
    "    -     최소단위 60초(00시 3분이면 1분동안 3이 유지되니까)\n",
    "    -     13:00~13:59까지는 60초 * 60분  = 360초.. 이런식"
   ]
  },
  {
   "cell_type": "markdown",
   "metadata": {},
   "source": [
    "### 29.4 심사문제: 사칙 연산 함수 만들기\n",
    "\n",
    "표준 입력으로 숫자 두 개가 입력됩니다. 다음 소스 코드를 완성하여 두 숫자의 덧셈, 뺄셈, 곱셈, 나눗셈의 결과가 출력되게 만드세요. 이때 나눗셈의 결과는 실수라야 합니다."
   ]
  },
  {
   "cell_type": "code",
   "execution_count": 10,
   "metadata": {},
   "outputs": [
    {
     "name": "stdout",
     "output_type": "stream",
     "text": [
      "덧셈: 30, 뺄셈: -10, 곱셈: 200, 나눗셈: 0.5\n"
     ]
    }
   ],
   "source": [
    "x, y = map(int, input().split())\n",
    "def calc(a, b):\n",
    "    return a + b, a - b, a * b, a / b \n",
    "a, s, m, d = calc(x, y)\n",
    "print('덧셈: {0}, 뺄셈: {1}, 곱셈: {2}, 나눗셈: {3}'.format(a, s, m, d))\n"
   ]
  },
  {
   "cell_type": "markdown",
   "metadata": {},
   "source": [
    "### 30.7 심사문제: 가장 낮은 점수, 높은 점수와 평균 점수를 구하는 함수 만들기\n",
    "\n",
    "표준 입력으로 국어, 영어, 수학, 과학 점수가 입력됩니다. 다음 소스 코드를 완성하여 가장 높은 점수, 가장 낮은 점수, 평균 점수가 출력되게 만드세요. 평균 점수는 실수로 출력되어야 합니다."
   ]
  },
  {
   "cell_type": "code",
   "execution_count": 12,
   "metadata": {},
   "outputs": [
    {
     "ename": "NameError",
     "evalue": "name 'get_min_max_score' is not defined",
     "output_type": "error",
     "traceback": [
      "\u001b[1;31m---------------------------------------------------------------------------\u001b[0m",
      "\u001b[1;31mNameError\u001b[0m                                 Traceback (most recent call last)",
      "Cell \u001b[1;32mIn[12], line 5\u001b[0m\n\u001b[0;32m      2\u001b[0m \u001b[39mdef\u001b[39;00m \u001b[39mget_average\u001b[39m(k, e, m, s):\n\u001b[0;32m      3\u001b[0m     \u001b[39mreturn\u001b[39;00m min_score, max_score, get_average(korean\u001b[39m+\u001b[39menglish\u001b[39m+\u001b[39mmathematics\u001b[39m+\u001b[39mscience)\u001b[39m/\u001b[39m\u001b[39m4\u001b[39m\n\u001b[1;32m----> 5\u001b[0m min_score, max_score \u001b[39m=\u001b[39m get_min_max_score(korean, english, mathematics, science)\n\u001b[0;32m      6\u001b[0m average_score \u001b[39m=\u001b[39m get_average(korean\u001b[39m=\u001b[39mkorean, english\u001b[39m=\u001b[39menglish,\n\u001b[0;32m      7\u001b[0m                             mathematics\u001b[39m=\u001b[39mmathematics, science\u001b[39m=\u001b[39mscience)\n\u001b[0;32m      8\u001b[0m \u001b[39mprint\u001b[39m(\u001b[39m'\u001b[39m\u001b[39m낮은 점수: \u001b[39m\u001b[39m{0:.2f}\u001b[39;00m\u001b[39m, 높은 점수: \u001b[39m\u001b[39m{1:.2f}\u001b[39;00m\u001b[39m, 평균 점수: \u001b[39m\u001b[39m{2:.2f}\u001b[39;00m\u001b[39m'\u001b[39m\n\u001b[0;32m      9\u001b[0m       \u001b[39m.\u001b[39mformat(min_score, max_score, average_score))\n",
      "\u001b[1;31mNameError\u001b[0m: name 'get_min_max_score' is not defined"
     ]
    }
   ],
   "source": [
    "korean, english, mathematics, science = map(int, input().split())\n",
    "def get_average(k, e, m, s):\n",
    "    return min_score, max_score, get_average(korean+english+mathematics+science)/4\n",
    "\n",
    "min_score, max_score = get_min_max_score(korean, english, mathematics, science)\n",
    "average_score = get_average(korean=korean, english=english,\n",
    "                            mathematics=mathematics, science=science)\n",
    "print('낮은 점수: {0:.2f}, 높은 점수: {1:.2f}, 평균 점수: {2:.2f}'\n",
    "      .format(min_score, max_score, average_score))\n",
    " \n",
    "min_score, max_score = get_min_max_score(english, science)\n",
    "average_score = get_average(english=english, science=science)\n",
    "print('낮은 점수: {0:.2f}, 높은 점수: {1:.2f}, 평균 점수: {2:.2f}'\n",
    "      .format(min_score, max_score, average_score))"
   ]
  },
  {
   "cell_type": "markdown",
   "metadata": {},
   "source": [
    "### 32.5 심사문제: 파일 이름을 한꺼번에 바꾸기\n",
    "\n",
    "표준 입력으로 숫자.확장자 형식으로 된 파일 이름 여러 개가 입력됩니다. 다음 소스 코드를 완성하여 파일 이름이 숫자 3개이면서 앞에 0이 들어가는 형식으로 출력되게 만드세요. 예를 들어 1.png는 001.png, 99.docx는 099.docx, 100.xlsx는 100.xlsx처럼 출력되어야 합니다. 그리고 람다 표현식을 사용해야 하며 출력 결과는 리스트 형태라야 합니다. 람다 표현식에서 파일명을 처리할 때는 문자열 포매팅과 문자열 메서드를 활용하세요."
   ]
  },
  {
   "cell_type": "code",
   "execution_count": 14,
   "metadata": {},
   "outputs": [
    {
     "ename": "SyntaxError",
     "evalue": "leading zeros in decimal integer literals are not permitted; use an 0o prefix for octal integers (3482769701.py, line 2)",
     "output_type": "error",
     "traceback": [
      "\u001b[1;36m  Cell \u001b[1;32mIn[14], line 2\u001b[1;36m\u001b[0m\n\u001b[1;33m    print(list(map(lambda x:files {0:03d}.{1} format split('.')int(x.split('.')[0]))))\u001b[0m\n\u001b[1;37m                                     ^\u001b[0m\n\u001b[1;31mSyntaxError\u001b[0m\u001b[1;31m:\u001b[0m leading zeros in decimal integer literals are not permitted; use an 0o prefix for octal integers\n"
     ]
    }
   ],
   "source": [
    "files = input().split()\n",
    "print(list(map(lambda x:'{0:03d}'.{1} format split('.')int(x.split('.')[0]))))"
   ]
  },
  {
   "cell_type": "code",
   "execution_count": null,
   "metadata": {},
   "outputs": [],
   "source": [
    "files = input().split() # ['97.xlsx', '98.docx', '99.docx', '100.xlsx', '101.docx', '102.docx']\n",
    "\n",
    "a = list(map(lambda x : '{0:03d}'.format(int(x.split('.')[0]))+ '.' + x.split('.')[1], files))\n",
    "\n",
    "print(a)"
   ]
  }
 ],
 "metadata": {
  "kernelspec": {
   "display_name": "base",
   "language": "python",
   "name": "python3"
  },
  "language_info": {
   "codemirror_mode": {
    "name": "ipython",
    "version": 3
   },
   "file_extension": ".py",
   "mimetype": "text/x-python",
   "name": "python",
   "nbconvert_exporter": "python",
   "pygments_lexer": "ipython3",
   "version": "3.11.4"
  },
  "orig_nbformat": 4
 },
 "nbformat": 4,
 "nbformat_minor": 2
}
