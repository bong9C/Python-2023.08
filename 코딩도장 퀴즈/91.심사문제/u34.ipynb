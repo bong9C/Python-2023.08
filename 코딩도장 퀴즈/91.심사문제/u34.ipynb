{
 "cells": [
  {
   "cell_type": "markdown",
   "metadata": {},
   "source": [
    "### 34.6 심사문제: 게임 캐릭터 클래스 만들기\n",
    "표준 입력으로 게임 캐릭터 능력치(체력, 마나, AP)가 입력됩니다. 다음 소스 코드에서 애니(Annie) 클래스를 작성하여 티버(tibbers) 스킬의 피해량이 출력되게 만드세요. 티버의 피해량은 AP * 0.65 + 400이며 AP(Ability Power, 주문력)는 마법 능력치를 뜻합니다."
   ]
  },
  {
   "cell_type": "code",
   "execution_count": 82,
   "metadata": {},
   "outputs": [
    {
     "name": "stdout",
     "output_type": "stream",
     "text": [
      "티버: 피해량 593.7 \n"
     ]
    }
   ],
   "source": [
    "class Annie:\n",
    "    def __init__(self, health, mana, ability_power):\n",
    "        self.health = health\n",
    "        self.mana = mana\n",
    "        self.ability_power = ability_power\n",
    "\n",
    "    def tibbers(self):\n",
    "        print(f'티버: 피해량 {ability_power * 0.65 +400} ')\n",
    "        \n",
    "health, mana, ability_power = map(float, input().split())\n",
    " \n",
    "x = Annie(health=health, mana=mana, ability_power=ability_power)\n",
    "x.tibbers()"
   ]
  },
  {
   "cell_type": "markdown",
   "metadata": {},
   "source": [
    "#### class Account (계좌)를 만드세요.\n",
    "- 1. 속성값:\n",
    "###### 계좌번호(ano), 소유주(owner), 잔액(balance)\n",
    "###### 단, 잔액은 0원 이상이고 10,000,000원 이하여야 한다.\n",
    "- 2. deposit method\n",
    "###### amount를 매개변수로 받아 balance에 더해준다.\n",
    "###### 잔액은 10000000원을 초과할 수 없다.\n",
    "- 3. withdraw method\n",
    "###### amount 만큼의 금액을 balance에서 차감한다.\n",
    "###### 잔액은 마이너스 금액이 될 수 없다.\n",
    "- 4. __str__method\n",
    "###### 계좌번호: ooo, 소유주: ooo, 잔액: 10자리의 천단위 구분기호가 있는 정수\n"
   ]
  },
  {
   "cell_type": "code",
   "execution_count": 105,
   "metadata": {},
   "outputs": [],
   "source": [
    "class Account:\n",
    "    def __init__(self, ano, owner, balance):\n",
    "        self.ano = ano\n",
    "        self.owner = owner\n",
    "        self.balance = balance\n",
    "        if 10000000 >=balance >= 0:\n",
    "            balance\n",
    "    def deposit(self, amount):\n",
    "        if self.balance + amount <= 10000000:\n",
    "            self.balance += amount\n",
    "            print(f'{amount:10,d}원이 입금되었습니다.잔액은{self.balance:10,d}원 입니다.')\n",
    "        else:\n",
    "            print(\"잔액은 10,000,000을 초과 하여 입금 할 수 없습니다.\")\n",
    "    def withdraw(self, amount):\n",
    "        self.balance -= amount\n",
    "        if self.balance <= 0:\n",
    "            print(\"더 이상의 출금은 불가합니다.\")\n",
    "        else: \n",
    "            print(f'{amount:10,d}원이 출금되었습니다.{self.balance:10,d}원 입니다.')\n",
    "    def __str__(self):\n",
    "        return f'계좌번호: {self.ano}, 소유주: {self.owner}, 잔액: {self.balance:10,d}'"
   ]
  },
  {
   "cell_type": "code",
   "execution_count": 106,
   "metadata": {},
   "outputs": [
    {
     "name": "stdout",
     "output_type": "stream",
     "text": [
      "잔액은 10,000,000을 초과 하여 입금 할 수 없습니다.\n",
      "   450,000원이 출금되었습니다.    50,000원 입니다.\n",
      "계좌번호: 123456789, 소유주: 공준, 잔액:     50,000\n"
     ]
    }
   ],
   "source": [
    "gongjun = Account(ano=123456789,owner='공준',balance=500000)\n",
    "gongjun.deposit (10000000)\n",
    "gongjun.withdraw(450000)\n",
    "print(gongjun)"
   ]
  },
  {
   "cell_type": "code",
   "execution_count": 85,
   "metadata": {},
   "outputs": [
    {
     "name": "stdout",
     "output_type": "stream",
     "text": [
      "     3,000원이 입금되었습니다.잔액은   103,000원 입니다.\n",
      "     3,000원이 입금되었습니다.잔액은   106,000원 입니다.\n",
      "     3,000원이 입금되었습니다.잔액은   109,000원 입니다.\n",
      "     3,000원이 입금되었습니다.잔액은   112,000원 입니다.\n",
      "     3,000원이 입금되었습니다.잔액은   115,000원 입니다.\n",
      "     3,000원이 입금되었습니다.잔액은   118,000원 입니다.\n",
      "     3,000원이 입금되었습니다.잔액은   121,000원 입니다.\n",
      "     3,000원이 입금되었습니다.잔액은   124,000원 입니다.\n",
      "     3,000원이 입금되었습니다.잔액은   127,000원 입니다.\n",
      "     3,000원이 입금되었습니다.잔액은   130,000원 입니다.\n"
     ]
    }
   ],
   "source": [
    "for _ in range(10):\n",
    "    gongjun.deposit(3000)"
   ]
  },
  {
   "cell_type": "code",
   "execution_count": 86,
   "metadata": {},
   "outputs": [
    {
     "name": "stdout",
     "output_type": "stream",
     "text": [
      "   100,000원이 출금되었습니다.    30,000원 입니다.\n",
      "더 이상의 출금은 불가합니다.\n",
      "더 이상의 출금은 불가합니다.\n",
      "더 이상의 출금은 불가합니다.\n",
      "더 이상의 출금은 불가합니다.\n",
      "더 이상의 출금은 불가합니다.\n",
      "더 이상의 출금은 불가합니다.\n",
      "더 이상의 출금은 불가합니다.\n",
      "더 이상의 출금은 불가합니다.\n",
      "더 이상의 출금은 불가합니다.\n"
     ]
    }
   ],
   "source": [
    "for _ in range(10):\n",
    "    gongjun.withdraw(100000)"
   ]
  },
  {
   "cell_type": "code",
   "execution_count": 2,
   "metadata": {},
   "outputs": [
    {
     "name": "stdout",
     "output_type": "stream",
     "text": [
      "계좌번호: 230906, 소유주: 라운희, 잔액:    100,000\n"
     ]
    },
    {
     "ename": "AttributeError",
     "evalue": "'Account' object has no attribute 'balence'",
     "output_type": "error",
     "traceback": [
      "\u001b[1;31m---------------------------------------------------------------------------\u001b[0m",
      "\u001b[1;31mAttributeError\u001b[0m                            Traceback (most recent call last)",
      "Cell \u001b[1;32mIn[2], line 29\u001b[0m\n\u001b[0;32m     27\u001b[0m acc \u001b[39m=\u001b[39m Account(\u001b[39m'\u001b[39m\u001b[39m230906\u001b[39m\u001b[39m'\u001b[39m, \u001b[39m'\u001b[39m\u001b[39m라운희\u001b[39m\u001b[39m'\u001b[39m, \u001b[39m100000\u001b[39m)\n\u001b[0;32m     28\u001b[0m \u001b[39mprint\u001b[39m(acc)\n\u001b[1;32m---> 29\u001b[0m acc\u001b[39m.\u001b[39mdespoit(\u001b[39m200000\u001b[39m)\n\u001b[0;32m     30\u001b[0m \u001b[39mprint\u001b[39m(acc)\n\u001b[0;32m     31\u001b[0m acc\u001b[39m.\u001b[39mwithdraw(\u001b[39m350000\u001b[39m)\n",
      "Cell \u001b[1;32mIn[2], line 15\u001b[0m, in \u001b[0;36mAccount.despoit\u001b[1;34m(self, amount)\u001b[0m\n\u001b[0;32m     13\u001b[0m     \u001b[39mprint\u001b[39m(\u001b[39m'\u001b[39m\u001b[39m잔액이 일천만원이 초과 할 수 없습니다. \u001b[39m\u001b[39m'\u001b[39m)\n\u001b[0;32m     14\u001b[0m     \u001b[39mreturn\u001b[39;00m\n\u001b[1;32m---> 15\u001b[0m \u001b[39mself\u001b[39m\u001b[39m.\u001b[39mbalence \u001b[39m+\u001b[39m\u001b[39m=\u001b[39m amount\n",
      "\u001b[1;31mAttributeError\u001b[0m: 'Account' object has no attribute 'balence'"
     ]
    }
   ],
   "source": [
    "# 또 다른 풀이\n",
    "\n",
    "class Account:\n",
    "    def __init__(self, ano, owner, balance):\n",
    "        self.ano = ano\n",
    "        self.owner = owner\n",
    "        self.balance = 0\n",
    "        if 0 <= balance <= 10000000 :\n",
    "            self.balance = balance\n",
    "\n",
    "    def despoit(self, amount):\n",
    "        if self.balance + amount > 10000000 :\n",
    "            print('잔액이 일천만원이 초과 할 수 없습니다. ')\n",
    "            return\n",
    "        self.balence += amount\n",
    "\n",
    "    def withdraw(self, amount):\n",
    "        if self.balance < amount:\n",
    "            print('잔액이 부족합니다.')\n",
    "            return\n",
    "        self.balance -= amount\n",
    "\n",
    "    def __str__(self):\n",
    "        return f'계좌번호: {self.ano}, 소유주: {self.owner}, 잔액: {self.balance:10,d}'\n",
    "    \n",
    "if __name__ == '__main__':\n",
    "    acc = Account('230906', '라운희', 100000)\n",
    "    print(acc)\n",
    "    acc.despoit(200000)\n",
    "    print(acc)\n",
    "    acc.withdraw(350000)\n",
    "    acc.withdraw(250000)\n",
    "    print(acc)"
   ]
  },
  {
   "cell_type": "code",
   "execution_count": null,
   "metadata": {},
   "outputs": [],
   "source": []
  }
 ],
 "metadata": {
  "kernelspec": {
   "display_name": "base",
   "language": "python",
   "name": "python3"
  },
  "language_info": {
   "codemirror_mode": {
    "name": "ipython",
    "version": 3
   },
   "file_extension": ".py",
   "mimetype": "text/x-python",
   "name": "python",
   "nbconvert_exporter": "python",
   "pygments_lexer": "ipython3",
   "version": "3.11.4"
  },
  "orig_nbformat": 4
 },
 "nbformat": 4,
 "nbformat_minor": 2
}
