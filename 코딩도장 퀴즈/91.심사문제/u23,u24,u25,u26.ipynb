{
 "cells": [
  {
   "cell_type": "markdown",
   "metadata": {},
   "source": [
    "### 24.5 심사문제: 특정 단어 개수 세기\n",
    "\n",
    "표준 입력으로 문자열이 입력됩니다. 입력된 문자열에서 'the'의 개수를 출력하는 프로그램을 만드세요(input에서 안내 문자열은 출력하지 않아야 합니다). 단, 모든 문자가 소문자인 'the'만 찾으면 되며 'them', 'there', 'their' 등은 포함하지 않아야 합니다."
   ]
  },
  {
   "cell_type": "code",
   "execution_count": 8,
   "metadata": {},
   "outputs": [
    {
     "name": "stdout",
     "output_type": "stream",
     "text": [
      "['the', \"grown-ups'\", 'response,', 'this', 'time,', 'was', 'to', 'advise', 'me', 'to', 'lay', 'aside', 'my', 'drawings', 'of', 'boa', 'constrictors,', 'whether', 'from', 'the', 'inside', 'or', 'the', 'outside,', 'and', 'devote', 'myself', 'instead', 'to', 'geography,', 'history,', 'arithmetic,', 'and', 'grammar.', 'That', 'is', 'why,', 'at', 'the,', 'age', 'of', 'six,', 'I', 'gave', 'up', 'what', 'might', 'have', 'been', 'a', 'magnificent', 'career', 'as', 'a', 'painter.', 'I', 'had', 'been', 'disheartened', 'by', 'the', 'failure', 'of', 'my', 'Drawing', 'Number', 'One', 'and', 'my', 'Drawing', 'Number', 'Two.', 'Grown-ups', 'never', 'understand', 'anything', 'by', 'themselves,', 'and', 'it', 'is', 'tiresome', 'for', 'children', 'to', 'be', 'always', 'and', 'forever', 'explaining', 'things', 'to', 'the.']\n"
     ]
    }
   ],
   "source": [
    "a = str(input( ))\n",
    "the=a.split()\n",
    "for word in a:\n",
    "    if 'the' in word:\n",
    "        the.append(word)\n",
    "print(the)\n"
   ]
  }
 ],
 "metadata": {
  "kernelspec": {
   "display_name": "base",
   "language": "python",
   "name": "python3"
  },
  "language_info": {
   "codemirror_mode": {
    "name": "ipython",
    "version": 3
   },
   "file_extension": ".py",
   "mimetype": "text/x-python",
   "name": "python",
   "nbconvert_exporter": "python",
   "pygments_lexer": "ipython3",
   "version": "3.11.4"
  },
  "orig_nbformat": 4
 },
 "nbformat": 4,
 "nbformat_minor": 2
}
