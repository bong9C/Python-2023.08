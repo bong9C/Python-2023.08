{
 "cells": [
  {
   "cell_type": "markdown",
   "metadata": {},
   "source": [
    "### 3.3 if ~ elif ~ else"
   ]
  },
  {
   "cell_type": "code",
   "execution_count": 1,
   "metadata": {},
   "outputs": [],
   "source": [
    "import datetime\n",
    "now = datetime.datetime.now()"
   ]
  },
  {
   "cell_type": "code",
   "execution_count": 2,
   "metadata": {},
   "outputs": [
    {
     "name": "stdout",
     "output_type": "stream",
     "text": [
      "8월은 여름입니다.\n"
     ]
    }
   ],
   "source": [
    "if 3 <= now.month <= 5:\n",
    "    print(f'{now.month}월은 봄입니다.')\n",
    "if 6 <= now.month <= 8:\n",
    "    print(f'{now.month}월은 여름입니다.')\n",
    "if 9 <= now.month <= 11:\n",
    "    print(f'{now.month}월은 가을입니다.')\n",
    "if now.month <= 2 or now.month >= 12:\n",
    "    print(f'{now.month}월은 겨울입니다.')"
   ]
  },
  {
   "cell_type": "code",
   "execution_count": 3,
   "metadata": {},
   "outputs": [
    {
     "name": "stdout",
     "output_type": "stream",
     "text": [
      "8월은 여름입니다.\n"
     ]
    }
   ],
   "source": [
    "if 3 <= now.month <= 5:\n",
    "    print(f'{now.month}월은 봄입니다.')\n",
    "elif 6 <= now.month <= 8:\n",
    "    print(f'{now.month}월은 여름입니다.')\n",
    "elif 9 <= now.month <= 11:\n",
    "    print(f'{now.month}월은 가을입니다.')\n",
    "else:\n",
    "    print(f'{now.month}월은 겨울입니다.')"
   ]
  },
  {
   "cell_type": "code",
   "execution_count": 4,
   "metadata": {},
   "outputs": [
    {
     "data": {
      "text/plain": [
       "(91, 'A')"
      ]
     },
     "execution_count": 4,
     "metadata": {},
     "output_type": "execute_result"
    }
   ],
   "source": [
    "# 90점 이상 - A, 80점 이상 - B, 70점 이상 - C, 60점 이상 - D, 60점 미만 - F\n",
    "import random\n",
    "score = random.randint(40,100)\n",
    "if score >= 90:\n",
    "    grade = 'A'\n",
    "elif score >= 80:\n",
    "    grade = 'B'\n",
    "elif score >= 70:\n",
    "    grade = 'C'\n",
    "elif score >= 60:\n",
    "    grade = 'D'\n",
    "else:\n",
    "    grade = 'F'\n",
    "score, grade\n"
   ]
  },
  {
   "cell_type": "code",
   "execution_count": 5,
   "metadata": {},
   "outputs": [],
   "source": [
    "# 년도 입력, 운영 여부 판단\n",
    "# 400 으로 나눠서 떨어지면 윤년, 100 으로 나눠서 떨어지면 평년\n",
    "# 4 로 나눠서 떨어지면 윤년 아니면 평년\n",
    "year = int(input('년도 입력> '))"
   ]
  },
  {
   "cell_type": "code",
   "execution_count": 17,
   "metadata": {},
   "outputs": [
    {
     "name": "stdout",
     "output_type": "stream",
     "text": [
      "1879은 평년 입니다.\n"
     ]
    }
   ],
   "source": [
    "year = int(input('년도 입력> '))\n",
    "if year % 400 == 0:\n",
    "    k = '윤년'\n",
    "elif year % 100 == 0:\n",
    "    k = '평년'\n",
    "elif year % 4 == 0 :\n",
    "    k = '윤년'\n",
    "else:\n",
    "    k = '평년' \n",
    "print(f'{year}은 {k}입니다.')\n"
   ]
  },
  {
   "cell_type": "code",
   "execution_count": 24,
   "metadata": {},
   "outputs": [
    {
     "data": {
      "text/plain": [
       "(1995, 8, 30)"
      ]
     },
     "execution_count": 24,
     "metadata": {},
     "output_type": "execute_result"
    }
   ],
   "source": [
    "# 생년월일을 입력으로 받아, 오늘 날짜의 만 나이를 구하시오.\n",
    "b_year, b_month, b_day = map(int, input('생년월일 입력> ').split())\n",
    "b_year, b_month, b_day\n"
   ]
  },
  {
   "cell_type": "code",
   "execution_count": 25,
   "metadata": {},
   "outputs": [
    {
     "data": {
      "text/plain": [
       "(2023, 8, 29)"
      ]
     },
     "execution_count": 25,
     "metadata": {},
     "output_type": "execute_result"
    }
   ],
   "source": [
    "t_year, t_month, t_day = now.year, now.month, now.day\n",
    "t_year, t_month, t_day"
   ]
  },
  {
   "cell_type": "code",
   "execution_count": 37,
   "metadata": {},
   "outputs": [
    {
     "data": {
      "text/plain": [
       "27"
      ]
     },
     "execution_count": 37,
     "metadata": {},
     "output_type": "execute_result"
    }
   ],
   "source": [
    "\n",
    "if b_month < t_month:\n",
    "    age = t_year - b_year\n",
    "elif b_month > t_month:\n",
    "    age = t_year - b_year - 1\n",
    "else:\n",
    "    if b_day <= t_day:\n",
    "        age = t_year - b_year\n",
    "    else:\n",
    "        age = t_year - b_year -1\n",
    "age\n",
    "    "
   ]
  },
  {
   "cell_type": "code",
   "execution_count": null,
   "metadata": {},
   "outputs": [],
   "source": []
  }
 ],
 "metadata": {
  "kernelspec": {
   "display_name": "base",
   "language": "python",
   "name": "python3"
  },
  "language_info": {
   "codemirror_mode": {
    "name": "ipython",
    "version": 3
   },
   "file_extension": ".py",
   "mimetype": "text/x-python",
   "name": "python",
   "nbconvert_exporter": "python",
   "pygments_lexer": "ipython3",
   "version": "3.11.4"
  },
  "orig_nbformat": 4
 },
 "nbformat": 4,
 "nbformat_minor": 2
}
