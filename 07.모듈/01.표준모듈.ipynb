{
 "cells": [
  {
   "cell_type": "markdown",
   "metadata": {},
   "source": [
    "## 7. 모듈\n",
    "### 7.1 표준 모듈\n",
    "- math 모듈"
   ]
  },
  {
   "cell_type": "markdown",
   "metadata": {},
   "source": [
    "- 모듈(라이브러리)  ( 아나콘다가 없으면 넘파이, 판다스 등 초기 설치를 다 따로 해야함.)\n",
    "    - 남이 작성한 모듈\n",
    "    - 표준 내장 모듈\n",
    "    - 설치형 모듈\n",
    "    - 내가 작성한 모듈\n",
    "\n",
    "###### 전역 설치 ( CMD 창에서 )\n",
    "        - conda activate base\n",
    "        - pip install 모듈명\n",
    "###### 가상 환경별 설치 ( CMD 창에서 )\n",
    "        - conda activate 가상 환경\n",
    "        - conda install option 모듈명"
   ]
  },
  {
   "cell_type": "code",
   "execution_count": 1,
   "metadata": {},
   "outputs": [
    {
     "data": {
      "text/plain": [
       "3.141592653589793"
      ]
     },
     "execution_count": 1,
     "metadata": {},
     "output_type": "execute_result"
    }
   ],
   "source": [
    "import math \n",
    "math.pi"
   ]
  },
  {
   "cell_type": "code",
   "execution_count": 3,
   "metadata": {},
   "outputs": [
    {
     "data": {
      "text/plain": [
       "(1.0, 6.123233995736766e-17)"
      ]
     },
     "execution_count": 3,
     "metadata": {},
     "output_type": "execute_result"
    }
   ],
   "source": [
    "# 90도 일때(pi / 2) 사인, 코사인의 값\n",
    "math.sin(math.pi/2), math.cos(math.pi/2)"
   ]
  },
  {
   "cell_type": "code",
   "execution_count": 5,
   "metadata": {},
   "outputs": [
    {
     "data": {
      "text/plain": [
       "(1.0, 6.123233995736766e-17)"
      ]
     },
     "execution_count": 5,
     "metadata": {},
     "output_type": "execute_result"
    }
   ],
   "source": [
    "from math import sin, cos, pi\n",
    "sin(pi / 2), cos(pi / 2)"
   ]
  },
  {
   "cell_type": "code",
   "execution_count": 8,
   "metadata": {},
   "outputs": [
    {
     "data": {
      "text/plain": [
       "(1.0, 6.123233995736766e-17)"
      ]
     },
     "execution_count": 8,
     "metadata": {},
     "output_type": "execute_result"
    }
   ],
   "source": [
    "import math as m \n",
    "m.sin(m.pi/2), m.cos(m.pi/2)"
   ]
  },
  {
   "cell_type": "markdown",
   "metadata": {},
   "source": [
    "- random 모듈"
   ]
  },
  {
   "cell_type": "code",
   "execution_count": 9,
   "metadata": {},
   "outputs": [
    {
     "data": {
      "text/plain": [
       "(0.4474230509741943, 6)"
      ]
     },
     "execution_count": 9,
     "metadata": {},
     "output_type": "execute_result"
    }
   ],
   "source": [
    "import random as rd\n",
    "rd.random(), rd.randint(1, 6)"
   ]
  },
  {
   "cell_type": "code",
   "execution_count": 10,
   "metadata": {},
   "outputs": [
    {
     "data": {
      "text/plain": [
       "16.884093088240846"
      ]
     },
     "execution_count": 10,
     "metadata": {},
     "output_type": "execute_result"
    }
   ],
   "source": [
    "# start, end까지 실수 반환\n",
    "rd.uniform(11, 20)"
   ]
  },
  {
   "cell_type": "code",
   "execution_count": 11,
   "metadata": {},
   "outputs": [
    {
     "data": {
      "text/plain": [
       "(4, 6)"
      ]
     },
     "execution_count": 11,
     "metadata": {},
     "output_type": "execute_result"
    }
   ],
   "source": [
    "# range()\n",
    "rd.randrange(10), rd.randrange(1, 7)"
   ]
  },
  {
   "cell_type": "code",
   "execution_count": 12,
   "metadata": {},
   "outputs": [
    {
     "data": {
      "text/plain": [
       "(3, [1, 4, 3])"
      ]
     },
     "execution_count": 12,
     "metadata": {},
     "output_type": "execute_result"
    }
   ],
   "source": [
    "a = [1, 2, 3, 4, 5]\n",
    "rd.choice(a), rd.sample(a, 3)  # (a에서 랜덤 하나 고름 [a에서 3자리 랜덤 고름])"
   ]
  },
  {
   "cell_type": "code",
   "execution_count": 13,
   "metadata": {},
   "outputs": [
    {
     "data": {
      "text/plain": [
       "[4, 1, 2, 5, 3]"
      ]
     },
     "execution_count": 13,
     "metadata": {},
     "output_type": "execute_result"
    }
   ],
   "source": [
    "rd.shuffle(a)\n",
    "a"
   ]
  },
  {
   "cell_type": "markdown",
   "metadata": {},
   "source": [
    "- os 모듈"
   ]
  },
  {
   "cell_type": "code",
   "execution_count": 14,
   "metadata": {},
   "outputs": [
    {
     "data": {
      "text/plain": [
       "'nt'"
      ]
     },
     "execution_count": 14,
     "metadata": {},
     "output_type": "execute_result"
    }
   ],
   "source": [
    "import os\n",
    "os.name         # 내가 지금 사용하는 윈도우의 이름을 알고 싶다!"
   ]
  },
  {
   "cell_type": "code",
   "execution_count": 15,
   "metadata": {},
   "outputs": [
    {
     "data": {
      "text/plain": [
       "'d:\\\\WorkSpace\\\\01.Python\\\\07.모듈'"
      ]
     },
     "execution_count": 15,
     "metadata": {},
     "output_type": "execute_result"
    }
   ],
   "source": [
    "# 현재 워킹 디렉토리(Current Working Directory)\n",
    "os.getcwd()"
   ]
  },
  {
   "cell_type": "code",
   "execution_count": 16,
   "metadata": {},
   "outputs": [
    {
     "data": {
      "text/plain": [
       "['01.표준모듈.ipynb', 'test_package']"
      ]
     },
     "execution_count": 16,
     "metadata": {},
     "output_type": "execute_result"
    }
   ],
   "source": [
    "# 현재 디렉토리에 있는 파일과 디렉토리 요소\n",
    "os.listdir()"
   ]
  },
  {
   "cell_type": "code",
   "execution_count": 24,
   "metadata": {},
   "outputs": [],
   "source": [
    "# 현 디렉토리에 test 디렉토리가 없으면 생성 ( CMD 창에서 실행 )\n",
    "dir_name = 'test'\n",
    "if not os.path.exists(dir_name):        # 존재하면 안만들고 없으면 만들어라 \n",
    "    os.mkdir(dir_name)\n",
    "    os.listdir()"
   ]
  },
  {
   "cell_type": "code",
   "execution_count": 25,
   "metadata": {},
   "outputs": [
    {
     "data": {
      "text/plain": [
       "['01.표준모듈.ipynb', 'test_package']"
      ]
     },
     "execution_count": 25,
     "metadata": {},
     "output_type": "execute_result"
    }
   ],
   "source": [
    "# 디렉토리 삭제 \n",
    "if os.path.exists(dir_name):\n",
    "    os.rmdir(dir_name)\n",
    "os.listdir()\n"
   ]
  },
  {
   "cell_type": "code",
   "execution_count": 28,
   "metadata": {},
   "outputs": [
    {
     "name": "stdout",
     "output_type": "stream",
     "text": [
      "c:\\Users\\human\\anaconda3\n",
      "C:\\Users\\human\\anaconda3\n",
      "C:\\Users\\human\\anaconda3\\Library\\mingw-w64\\bin\n",
      "C:\\Users\\human\\anaconda3\\Library\\usr\\bin\n",
      "C:\\Users\\human\\anaconda3\\Library\\bin\n",
      "C:\\Users\\human\\anaconda3\\Scripts\n",
      "C:\\Users\\human\\anaconda3\\bin\n",
      "C:\\Users\\human\\anaconda3\\condabin\n",
      "C:\\Program Files\\Java\\jdk-20\\bin\n",
      "C:\\Program Files\\Java\\jdk-20\\bin\n",
      "C:\\Program Files (x86)\\Common Files\\Oracle\\Java\\javapath\n",
      "C:\\oraclexe\\app\\oracle\\product\\11.2.0\\server\\bin\n",
      "C:\\WINDOWS\\system32\n",
      "C:\\WINDOWS\n",
      "C:\\WINDOWS\\System32\\Wbem\n",
      "C:\\WINDOWS\\System32\\WindowsPowerShell\\v1.0\n",
      "C:\\WINDOWS\\System32\\OpenSSH\n",
      "C:\\Program Files\\Git\\cmd\n",
      "C:\\Program Files\\Bandizip\n",
      "C:\\Users\\human\\anaconda3\n",
      "C:\\Users\\human\\anaconda3\\Library\\mingw-w64\\bin\n",
      "C:\\Users\\human\\anaconda3\\Library\\usr\\bin\n",
      "C:\\Users\\human\\anaconda3\\Library\\bin\n",
      "C:\\Users\\human\\anaconda3\\Scripts\n",
      "C:\\Users\\human\\AppData\\Local\\Programs\\Python\\Python311\\Scripts\n",
      "C:\\Users\\human\\AppData\\Local\\Programs\\Python\\Python311\n",
      "C:\\Users\\human\\AppData\\Local\\Microsoft\\WindowsApps\n",
      "C:\\Users\\human\\Downloads\\Microsoft VS Code\\bin\n"
     ]
    }
   ],
   "source": [
    "# 경로상에 있는 PATH 확인\n",
    "paths = os.environ['PATH']\n",
    "for path in paths.split(';'): \n",
    "    print(path)\n",
    "# 위에 디렉토리 사용자 패스, 아래가 시스템 패스"
   ]
  },
  {
   "cell_type": "code",
   "execution_count": 30,
   "metadata": {},
   "outputs": [
    {
     "name": "stdout",
     "output_type": "stream",
     "text": [
      "\n",
      "Path : C:/Temp\n",
      "\n",
      "\n",
      " file : filename\n",
      "\n",
      "33206\n",
      "1688849860695274\n",
      "3042767222\n",
      "1\n",
      "0\n",
      "0\n",
      "263436\n",
      "Wed Aug 16 10:26:48 2023\n",
      "Tue Aug 29 08:52:13 2023\n",
      "Mon Aug 14 16:05:40 2023\n"
     ]
    }
   ],
   "source": [
    "import time             # 모든 OS 에서 동일하게 사용 가능. \n",
    "from tkinter import filedialog\n",
    "def b(c):\n",
    "    (mode, ino, dev, nlink, uid, gid, size, atime, mtime, ctime)=os.stat(c)\n",
    "    print(mode)\n",
    "    print(ino)\n",
    "    print(dev)\n",
    "    print(nlink)\n",
    "    print(uid)\n",
    "    print(gid)\n",
    "    print(size)\n",
    "    modifiedTime = time.ctime(mtime)\n",
    "    accessTime = time.ctime(atime)\n",
    "    createdTime = time.ctime(ctime)\n",
    "    print(modifiedTime)\n",
    "    print(accessTime)\n",
    "    print(createdTime)\n",
    "a = filedialog.askdirectory()\n",
    "for (path, dirs, files) in os.walk(a):\n",
    "    print (\"\\nPath : \"+path+\"\\n\")\n",
    "    for file in files:\n",
    "        print(\"\\n file : \"+file+\"\\n\")\n",
    "        c = os.path.join(path, file)\n",
    "        b(c)\n"
   ]
  }
 ],
 "metadata": {
  "kernelspec": {
   "display_name": "base",
   "language": "python",
   "name": "python3"
  },
  "language_info": {
   "codemirror_mode": {
    "name": "ipython",
    "version": 3
   },
   "file_extension": ".py",
   "mimetype": "text/x-python",
   "name": "python",
   "nbconvert_exporter": "python",
   "pygments_lexer": "ipython3",
   "version": "3.11.4"
  },
  "orig_nbformat": 4
 },
 "nbformat": 4,
 "nbformat_minor": 2
}
