{
 "cells": [
  {
   "cell_type": "markdown",
   "metadata": {},
   "source": [
    "## 주의: py 파일에서 제목을 숫자로 시작하면 라이브러리 모듈이 안됨\n",
    "### 7.2 모듈만들기"
   ]
  },
  {
   "cell_type": "markdown",
   "metadata": {},
   "source": [
    "- 내가 만든 square2 모듈 이용하기"
   ]
  },
  {
   "cell_type": "code",
   "execution_count": 4,
   "metadata": {},
   "outputs": [
    {
     "name": "stdout",
     "output_type": "stream",
     "text": [
      "1.4142135623730951 4\n"
     ]
    }
   ],
   "source": [
    "import square2 as  sq\n",
    "print(sq.sqrt(2), sq.square(2))    # _pycache_ 모듈이 자동적으로 생성되고 컴파일러 버전에 파일이 생성된다.\n",
    "                                   # square2.cpython-311.pyc "
   ]
  },
  {
   "cell_type": "markdown",
   "metadata": {},
   "source": [
    "- 내가 만든 entry_module 이용하기"
   ]
  },
  {
   "cell_type": "code",
   "execution_count": 1,
   "metadata": {},
   "outputs": [
    {
     "name": "stdout",
     "output_type": "stream",
     "text": [
      "반지름: 5.0, 원 둘레: 31.4159\n",
      "반지름: 5.0, 원 면적: 78.5397\n"
     ]
    }
   ],
   "source": [
    "import entry_module as em\n",
    "\n",
    "radius = em.number_input()\n",
    "print(f'반지름: {radius}, 원 둘레: {em.get_circumference(radius):.4f}')\n",
    "print(f'반지름: {radius}, 원 면적: {em.get_area(radius):.4f}')"
   ]
  },
  {
   "cell_type": "markdown",
   "metadata": {},
   "source": [
    "- Entry point"
   ]
  },
  {
   "cell_type": "code",
   "execution_count": 2,
   "metadata": {},
   "outputs": [
    {
     "data": {
      "text/plain": [
       "'__main__'"
      ]
     },
     "execution_count": 2,
     "metadata": {},
     "output_type": "execute_result"
    }
   ],
   "source": [
    "__name__"
   ]
  },
  {
   "cell_type": "code",
   "execution_count": 3,
   "metadata": {},
   "outputs": [
    {
     "name": "stdout",
     "output_type": "stream",
     "text": [
      "entry_module\n"
     ]
    }
   ],
   "source": [
    "em.print_name()   # 가끔 모듈이 안나올 땐 모듈 파일을 지웠다가 VS코드 나갔다 들어오기."
   ]
  }
 ],
 "metadata": {
  "kernelspec": {
   "display_name": "base",
   "language": "python",
   "name": "python3"
  },
  "language_info": {
   "codemirror_mode": {
    "name": "ipython",
    "version": 3
   },
   "file_extension": ".py",
   "mimetype": "text/x-python",
   "name": "python",
   "nbconvert_exporter": "python",
   "pygments_lexer": "ipython3",
   "version": "3.11.4"
  },
  "orig_nbformat": 4
 },
 "nbformat": 4,
 "nbformat_minor": 2
}
