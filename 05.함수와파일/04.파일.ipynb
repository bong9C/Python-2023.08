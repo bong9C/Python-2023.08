{
 "cells": [
  {
   "cell_type": "markdown",
   "metadata": {},
   "source": [
    "### 5.4 파일\n",
    "\n",
    "- 1. Open\n",
    "- 2. 입력/출력\n",
    "- 3. Close"
   ]
  },
  {
   "cell_type": "code",
   "execution_count": 2,
   "metadata": {},
   "outputs": [],
   "source": [
    "file = open('data/basic.txt', 'w')         # data/basic.txt를 쓰기 모드로 open\n",
    "file.write('Hello Word!!!')\n",
    "file.close()"
   ]
  },
  {
   "cell_type": "markdown",
   "metadata": {},
   "source": [
    "- 파이썬 스타일:with 구문"
   ]
  },
  {
   "cell_type": "code",
   "execution_count": 5,
   "metadata": {},
   "outputs": [],
   "source": [
    "# with 구문을 벗어나면 파일이 자동적으로 close 됨\n",
    "# 'w' 모드는 기존 데이터를 overwrite \n",
    "# write 할 경우 new line을 입력하지 않았으므로 한 줄의 데이터가 됨\n",
    "with open('data/basic.txt', 'w') as file:\n",
    "    file.write('This is Python Style!!!')\n",
    "    file.write('This is Python Style!!!')\n"
   ]
  },
  {
   "cell_type": "code",
   "execution_count": 6,
   "metadata": {},
   "outputs": [],
   "source": [
    "with open('data/basic.txt', 'w') as file:\n",
    "    file.write('Hello World~~~~\\n')\n",
    "    file.write('This is Python Style!!!')"
   ]
  },
  {
   "cell_type": "markdown",
   "metadata": {},
   "source": [
    "- 텍스트 읽기"
   ]
  },
  {
   "cell_type": "code",
   "execution_count": 7,
   "metadata": {},
   "outputs": [
    {
     "name": "stdout",
     "output_type": "stream",
     "text": [
      "Hello World~~~~\n",
      "This is Python Style!!!\n"
     ]
    }
   ],
   "source": [
    "with open('data/basic.txt', 'r') as file:\n",
    "    cintent = file.read()                   # 파일 안에 있는 텍스트를 모두 읽음\n",
    "print(cintent)"
   ]
  },
  {
   "cell_type": "code",
   "execution_count": 9,
   "metadata": {},
   "outputs": [
    {
     "name": "stdout",
     "output_type": "stream",
     "text": [
      "Hello World~~~~\n",
      "This\n"
     ]
    }
   ],
   "source": [
    "with open('data/basic.txt',) as file:   # 읽기 모드가 디폴드이므로 'r' 생략 가능\n",
    "    cintent = file.read(20)                   # 파일 안에 있는 텍스트 20자를 읽음\n",
    "print(cintent)"
   ]
  },
  {
   "cell_type": "markdown",
   "metadata": {},
   "source": [
    "- 한글 텍스트 쓰기/읽기"
   ]
  },
  {
   "cell_type": "code",
   "execution_count": 17,
   "metadata": {},
   "outputs": [],
   "source": [
    "# encoding을 지정하기 않으면 'utf-8'로 인코딩\n",
    "with open('data/한글.txt', 'w') as file:\n",
    "    file.write('안녕하세요?\\n')\n",
    "    file.write('파이썬 새계에 오신 것을 환영합니다.')\n",
    "# CMD 에서는 안읽힘, VS 코드에서는 잘 읽힘. ( 아래처럼 인코딩을 해주어야 함 , 양립 불가. )"
   ]
  },
  {
   "cell_type": "code",
   "execution_count": 20,
   "metadata": {},
   "outputs": [],
   "source": [
    "# EUC-KR로 인코딩\n",
    "with open('data/한글.txt', 'w', encoding='cp949') as file:\n",
    "    file.write('안녕하세요?\\n')\n",
    "    file.write('파이썬 세계로 오신 것을 환영합니다.')\n",
    "# VS 코드에서는 안읽힘, CMD 에서는 잘 읽힘 "
   ]
  },
  {
   "cell_type": "code",
   "execution_count": 21,
   "metadata": {},
   "outputs": [
    {
     "name": "stdout",
     "output_type": "stream",
     "text": [
      "안녕하세요?\n",
      "파이썬 세계로 오신 것을 환영합니다.\n"
     ]
    }
   ],
   "source": [
    "# EUC-KR로 읽기\n",
    "with open('data/한글.txt', encoding='cp949') as file:\n",
    "    content = file.read()\n",
    "print(content)"
   ]
  },
  {
   "cell_type": "code",
   "execution_count": 23,
   "metadata": {},
   "outputs": [
    {
     "name": "stdout",
     "output_type": "stream",
     "text": [
      "안녕하세요?\n",
      "파이썬\n"
     ]
    }
   ],
   "source": [
    "# EUC-KR로 10글자 읽기 \n",
    "with open('data/한글.txt', encoding = 'EUC-KR') as file:\n",
    "    content = file.read(10)\n",
    "print(content)"
   ]
  },
  {
   "cell_type": "markdown",
   "metadata": {},
   "source": [
    "- 여러줄 쓰기/ 읽기\n"
   ]
  },
  {
   "cell_type": "code",
   "execution_count": 25,
   "metadata": {},
   "outputs": [],
   "source": [
    "fruits = ['apple', 'banana', 'cherry']\n",
    "with open('data/fruits.txt', 'w') as file:\n",
    "    for fruit in fruits:\n",
    "        file.write(fruit + '\\n')"
   ]
  },
  {
   "cell_type": "code",
   "execution_count": 28,
   "metadata": {},
   "outputs": [],
   "source": [
    "with open('data/fruits.txt', 'w') as file:\n",
    "    file.writelines(fruits)                     # 리스트를 쓰게 해줌"
   ]
  },
  {
   "cell_type": "code",
   "execution_count": 29,
   "metadata": {},
   "outputs": [],
   "source": [
    "with open('data/fruits.txt', 'w') as file:\n",
    "    file.writelines(map(lambda x: x + '\\n', fruits))"
   ]
  },
  {
   "cell_type": "code",
   "execution_count": 35,
   "metadata": {},
   "outputs": [
    {
     "name": "stdout",
     "output_type": "stream",
     "text": [
      "apple\n",
      "\n"
     ]
    }
   ],
   "source": [
    "with open('data/fruits.txt') as file:\n",
    "    line = file.readline()                 # 한 줄 읽기, 문자열\n",
    "    print(line)"
   ]
  },
  {
   "cell_type": "code",
   "execution_count": 33,
   "metadata": {},
   "outputs": [
    {
     "name": "stdout",
     "output_type": "stream",
     "text": [
      "['apple\\n', 'banana\\n', 'cherry\\n']\n"
     ]
    }
   ],
   "source": [
    "with open('data/fruits.txt') as file:\n",
    "    lines = file.readlines()                 # 모든 줄 읽기, 리스트\n",
    "    print(lines)"
   ]
  },
  {
   "cell_type": "code",
   "execution_count": 36,
   "metadata": {},
   "outputs": [
    {
     "name": "stdout",
     "output_type": "stream",
     "text": [
      "apple\n",
      "banana\n",
      "cherry\n"
     ]
    }
   ],
   "source": [
    "# 줄 단위로 작업\n",
    "for line in lines:\n",
    "    print(line.strip())"
   ]
  },
  {
   "cell_type": "code",
   "execution_count": 44,
   "metadata": {},
   "outputs": [
    {
     "name": "stdout",
     "output_type": "stream",
     "text": [
      "apple\n",
      "banana\n",
      "cherry\n",
      "\n"
     ]
    }
   ],
   "source": [
    "# 데이터가 몇줄 있는지 모르는 상황에서 아래와 같은 코드는 사용하지 말아야 함\n",
    "with open('data/fruits.txt') as file:\n",
    "    line = file.readline()                 # 한 줄 읽기, 문자열\n",
    "    print(line.strip())\n",
    "    line = file.readline()                 # 한 줄 읽기, 문자열\n",
    "    print(line.strip())\n",
    "    line = file.readline()                 # 한 줄 읽기, 문자열\n",
    "    print(line.strip())\n",
    "    line = file.readline()                 # 한 줄 읽기, 문자열\n",
    "    print(line.strip())\n",
    "\n",
    "    # 글이 몇줄 있는지 모를 땐 아래처럼 사용하세요. "
   ]
  },
  {
   "cell_type": "code",
   "execution_count": 45,
   "metadata": {},
   "outputs": [
    {
     "name": "stdout",
     "output_type": "stream",
     "text": [
      "apple\n",
      "banana\n",
      "cherry\n"
     ]
    }
   ],
   "source": [
    "with open('data/fruits.txt') as file:\n",
    "    while True:\n",
    "        line = file.readline()\n",
    "        if not line:                # '' or None 일때 break, if line == ''  <= 이렇게도 가능\n",
    "            break\n",
    "        print(line.strip())"
   ]
  },
  {
   "cell_type": "markdown",
   "metadata": {},
   "source": [
    "- append mode"
   ]
  },
  {
   "cell_type": "code",
   "execution_count": 47,
   "metadata": {},
   "outputs": [],
   "source": [
    "with open('data/fruits.txt', 'a') as file:\n",
    "    file.write('strawbery\\n')\n",
    "    file.write('pineapple\\n')"
   ]
  },
  {
   "cell_type": "markdown",
   "metadata": {},
   "source": [
    "- 패스워드 처리 \n",
    "    - github를 사용하는 경우 패스워드가 노출되면 안됨\n",
    "    - 패스워드를 파일에 보관하고, 파일을 .gitignore 파일에 등록\n",
    "    - 패스워드 파일은 개인 메일에 보관"
   ]
  },
  {
   "cell_type": "code",
   "execution_count": 49,
   "metadata": {},
   "outputs": [],
   "source": [
    "with open('data/password.txt') as file:\n",
    "    password = file.read()\n",
    "# 이 이후에 password를 출력하지 않고 사용하면 됨"
   ]
  },
  {
   "cell_type": "markdown",
   "metadata": {},
   "source": [
    "- 파이썬 객체 저장/로드"
   ]
  },
  {
   "cell_type": "code",
   "execution_count": 51,
   "metadata": {},
   "outputs": [],
   "source": [
    "james = {'name': 'james', 'age':27, 'addr': '서울시 영등포구 여의도동'}"
   ]
  },
  {
   "cell_type": "code",
   "execution_count": 58,
   "metadata": {},
   "outputs": [
    {
     "data": {
      "text/plain": [
       "['data/person.jl']"
      ]
     },
     "execution_count": 58,
     "metadata": {},
     "output_type": "execute_result"
    }
   ],
   "source": [
    "# 파일에 저장\n",
    "import joblib\n",
    "joblib.dump(james, 'data/person.jl')"
   ]
  },
  {
   "cell_type": "code",
   "execution_count": 59,
   "metadata": {},
   "outputs": [
    {
     "data": {
      "text/plain": [
       "{'name': 'james', 'age': 27, 'addr': '서울시 영등포구 여의도동'}"
      ]
     },
     "execution_count": 59,
     "metadata": {},
     "output_type": "execute_result"
    }
   ],
   "source": [
    "# 파일에서 읽기\n",
    "person = joblib.load('data/person.jl')\n",
    "person"
   ]
  },
  {
   "cell_type": "code",
   "execution_count": null,
   "metadata": {},
   "outputs": [],
   "source": []
  },
  {
   "cell_type": "markdown",
   "metadata": {},
   "source": []
  }
 ],
 "metadata": {
  "kernelspec": {
   "display_name": "base",
   "language": "python",
   "name": "python3"
  },
  "language_info": {
   "codemirror_mode": {
    "name": "ipython",
    "version": 3
   },
   "file_extension": ".py",
   "mimetype": "text/x-python",
   "name": "python",
   "nbconvert_exporter": "python",
   "pygments_lexer": "ipython3",
   "version": "3.11.4"
  },
  "orig_nbformat": 4
 },
 "nbformat": 4,
 "nbformat_minor": 2
}
