{
 "cells": [
  {
   "cell_type": "markdown",
   "metadata": {},
   "source": [
    "### Q1 완전수(Perfect Number)\n",
    "- 자기 자신을 제외한 약수의 합이 자신과 같은 수 - 완전수\n",
    "- 2 ~ 10000 사이의 완전수를 찾으세요"
   ]
  },
  {
   "cell_type": "code",
   "execution_count": 1,
   "metadata": {},
   "outputs": [],
   "source": [
    "# 자기 자신을 제외한 약수의 합을 반환하는 함수\n",
    "def sum_divisors(num):\n",
    "    div_list = []\n",
    "    for i in range(1, num):\n",
    "        if num % i == 0:\n",
    "            div_list.append(i)\n",
    "    return sum(div_list)\n"
   ]
  },
  {
   "cell_type": "code",
   "execution_count": 5,
   "metadata": {},
   "outputs": [
    {
     "data": {
      "text/plain": [
       "(4, 28)"
      ]
     },
     "execution_count": 5,
     "metadata": {},
     "output_type": "execute_result"
    }
   ],
   "source": [
    "sum_divisors(9), sum_divisors(28)"
   ]
  },
  {
   "cell_type": "code",
   "execution_count": 19,
   "metadata": {},
   "outputs": [
    {
     "name": "stdout",
     "output_type": "stream",
     "text": [
      "6\n",
      "28\n",
      "496\n",
      "8128\n"
     ]
    }
   ],
   "source": [
    "# Q1 문제\n",
    "for i in range(2, 10001):\n",
    "    if i == sum_divisors(i):\n",
    "        print(i)"
   ]
  },
  {
   "cell_type": "code",
   "execution_count": 20,
   "metadata": {},
   "outputs": [],
   "source": [
    "# Q1 문제를 한줄로 줄일 수 있음 \n",
    "def sum_divisors(num):\n",
    "    return sum([i for i in range(1, num) if num % 1 == 0])"
   ]
  },
  {
   "cell_type": "markdown",
   "metadata": {},
   "source": [
    "### Q2. 대칭수(Palindrome)\n",
    "- 세자리 수 두개를 곱해서 만든 가장 큰 대칭수는?"
   ]
  },
  {
   "cell_type": "code",
   "execution_count": 43,
   "metadata": {},
   "outputs": [],
   "source": [
    "def is_palindrome_num(num):\n",
    "    return str(num) == str(num)[::-1]"
   ]
  },
  {
   "cell_type": "code",
   "execution_count": 44,
   "metadata": {},
   "outputs": [
    {
     "data": {
      "text/plain": [
       "True"
      ]
     },
     "execution_count": 44,
     "metadata": {},
     "output_type": "execute_result"
    }
   ],
   "source": [
    "is_palindrome_num(91219)"
   ]
  },
  {
   "cell_type": "code",
   "execution_count": 45,
   "metadata": {},
   "outputs": [
    {
     "data": {
      "text/plain": [
       "89"
      ]
     },
     "execution_count": 45,
     "metadata": {},
     "output_type": "execute_result"
    }
   ],
   "source": [
    "num_list = [23, 45, 12, 89, 47]\n",
    "max_num = 0\n",
    "for i in num_list:\n",
    "    if i > max_num:\n",
    "        max_num = i\n",
    "max_num"
   ]
  },
  {
   "cell_type": "code",
   "execution_count": 46,
   "metadata": {},
   "outputs": [
    {
     "data": {
      "text/plain": [
       "906609"
      ]
     },
     "execution_count": 46,
     "metadata": {},
     "output_type": "execute_result"
    }
   ],
   "source": [
    "\n",
    "max_palindrome = 0\n",
    "for i in range(100, 1000):\n",
    "    for k in range(i, 1000):\n",
    "        palindrome = i * k\n",
    "        if str(palindrome) == str(palindrome)[::-1]:\n",
    "            if palindrome > max_palindrome:\n",
    "                max_palindrome = palindrome\n",
    "max_palindrome\n",
    "                 \n",
    "                  \n",
    "\n"
   ]
  },
  {
   "cell_type": "code",
   "execution_count": 47,
   "metadata": {},
   "outputs": [
    {
     "data": {
      "text/plain": [
       "906609"
      ]
     },
     "execution_count": 47,
     "metadata": {},
     "output_type": "execute_result"
    }
   ],
   "source": [
    "# 또 다른 풀이\n",
    "# 대칭수를 리스트에 담고, 리스트에서 최대값을 구하기\n",
    "pal_list = []\n",
    "for i in range(100, 1000):\n",
    "    for k in range(i, 1000):\n",
    "        if is_palindrome_num(i*k):\n",
    "            pal_list.append(i*k)\n",
    "max(pal_list)"
   ]
  },
  {
   "cell_type": "code",
   "execution_count": 48,
   "metadata": {},
   "outputs": [
    {
     "name": "stdout",
     "output_type": "stream",
     "text": [
      "913 x 993 = 906609\n"
     ]
    }
   ],
   "source": [
    "# 또 다른 풀이\n",
    "#max_pal, max_i, max_k 구하기\n",
    "max_pal, max_i, max_k = 0, 0, 0\n",
    "for i in range(100, 1000):\n",
    "    for k in range(i, 1000):\n",
    "        if is_palindrome_num(i*k):\n",
    "            if i*k > max_pal:\n",
    "                max_pal, max_i, max_k = i * k, i, k\n",
    "print(f'{max_i} x {max_k} = {max_pal}')"
   ]
  }
 ],
 "metadata": {
  "kernelspec": {
   "display_name": "base",
   "language": "python",
   "name": "python3"
  },
  "language_info": {
   "codemirror_mode": {
    "name": "ipython",
    "version": 3
   },
   "file_extension": ".py",
   "mimetype": "text/x-python",
   "name": "python",
   "nbconvert_exporter": "python",
   "pygments_lexer": "ipython3",
   "version": "3.11.4"
  },
  "orig_nbformat": 4
 },
 "nbformat": 4,
 "nbformat_minor": 2
}
