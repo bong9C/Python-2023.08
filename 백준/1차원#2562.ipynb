{
 "cells": [
  {
   "cell_type": "markdown",
   "metadata": {},
   "source": [
    "## 최댓값\n",
    "https://www.acmicpc.net/problem/2562\n",
    "\n",
    "9개의 서로 다른 자연수가 주어질 때, 이들 중 최댓값을 찾고 그 최댓값이 몇 번째 수인지를 구하는 프로그램을 작성하시오.\n",
    "\n",
    "예를 들어, 서로 다른 9개의 자연수\n",
    "\n",
    "3, 29, 38, 12, 57, 74, 40, 85, 61\n",
    "\n",
    "이 주어지면, 이들 중 최댓값은 85이고, 이 값은 8번째 수이다."
   ]
  },
  {
   "cell_type": "code",
   "execution_count": 49,
   "metadata": {},
   "outputs": [
    {
     "name": "stdout",
     "output_type": "stream",
     "text": [
      "85\n",
      "8\n"
     ]
    }
   ],
   "source": [
    "\n",
    "# a = list(map(int, input().split()))\n",
    "a=[int(input()) for i in range(9)]\n",
    "max_val = 0\n",
    "for element in a:\n",
    "    if element > max_val:\n",
    "        max_val = element\n",
    "print(max_val)\n",
    "print((a.index(max_val))+1)\n"
   ]
  },
  {
   "cell_type": "code",
   "execution_count": 1,
   "metadata": {},
   "outputs": [
    {
     "name": "stdout",
     "output_type": "stream",
     "text": [
      "index=7, 8번째 값, 85\n"
     ]
    }
   ],
   "source": [
    "# 또 다른 풀이 \n",
    "\n",
    "c = [3, 29, 38, 12, 57, 74, 40, 85, 61]\n",
    "cmax,cindex = -1, -1\n",
    "for index, element in enumerate(c):\n",
    "    if cmax < element:\n",
    "        cmax = element\n",
    "        cindex = index\n",
    "print(f'index={cindex}, {cindex+1}번째 값, {cmax}')\n"
   ]
  }
 ],
 "metadata": {
  "kernelspec": {
   "display_name": "base",
   "language": "python",
   "name": "python3"
  },
  "language_info": {
   "codemirror_mode": {
    "name": "ipython",
    "version": 3
   },
   "file_extension": ".py",
   "mimetype": "text/x-python",
   "name": "python",
   "nbconvert_exporter": "python",
   "pygments_lexer": "ipython3",
   "version": "3.11.4"
  },
  "orig_nbformat": 4
 },
 "nbformat": 4,
 "nbformat_minor": 2
}
