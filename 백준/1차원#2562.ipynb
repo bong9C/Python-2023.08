{
 "cells": [
  {
   "cell_type": "markdown",
   "metadata": {},
   "source": [
    "## 최댓값\n",
    "https://www.acmicpc.net/problem/2562\n",
    "\n",
    "9개의 서로 다른 자연수가 주어질 때, 이들 중 최댓값을 찾고 그 최댓값이 몇 번째 수인지를 구하는 프로그램을 작성하시오.\n",
    "\n",
    "예를 들어, 서로 다른 9개의 자연수\n",
    "\n",
    "3, 29, 38, 12, 57, 74, 40, 85, 61\n",
    "\n",
    "이 주어지면, 이들 중 최댓값은 85이고, 이 값은 8번째 수이다."
   ]
  },
  {
   "cell_type": "code",
   "execution_count": 30,
   "metadata": {},
   "outputs": [
    {
     "ename": "TypeError",
     "evalue": "'>' not supported between instances of 'map' and 'map'",
     "output_type": "error",
     "traceback": [
      "\u001b[1;31m---------------------------------------------------------------------------\u001b[0m",
      "\u001b[1;31mTypeError\u001b[0m                                 Traceback (most recent call last)",
      "Cell \u001b[1;32mIn[30], line 4\u001b[0m\n\u001b[0;32m      2\u001b[0m \u001b[39mfor\u001b[39;00m element \u001b[39min\u001b[39;00m \u001b[39mrange\u001b[39m (\u001b[39m9\u001b[39m):\n\u001b[0;32m      3\u001b[0m     element \u001b[39m=\u001b[39m \u001b[39mmap\u001b[39m(\u001b[39mint\u001b[39m,\u001b[39minput\u001b[39m()\u001b[39m.\u001b[39msplit())\n\u001b[1;32m----> 4\u001b[0m     \u001b[39mif\u001b[39;00m element \u001b[39m>\u001b[39m max_val:\n\u001b[0;32m      5\u001b[0m         max_val \u001b[39m=\u001b[39m element\n\u001b[0;32m      6\u001b[0m max_val, \u001b[39mmax\u001b[39m(element)\n",
      "\u001b[1;31mTypeError\u001b[0m: '>' not supported between instances of 'map' and 'map'"
     ]
    }
   ],
   "source": [
    "\n",
    "for a in range (9):\n",
    "    a = map(int,input().split())\n",
    "\n",
    "   \n",
    "max_val = a\n",
    "for element in a:\n",
    "    if element > max_val:\n",
    "        max_val = element\n",
    "max_val, max(a)\n"
   ]
  }
 ],
 "metadata": {
  "kernelspec": {
   "display_name": "base",
   "language": "python",
   "name": "python3"
  },
  "language_info": {
   "codemirror_mode": {
    "name": "ipython",
    "version": 3
   },
   "file_extension": ".py",
   "mimetype": "text/x-python",
   "name": "python",
   "nbconvert_exporter": "python",
   "pygments_lexer": "ipython3",
   "version": "3.11.4"
  },
  "orig_nbformat": 4
 },
 "nbformat": 4,
 "nbformat_minor": 2
}
