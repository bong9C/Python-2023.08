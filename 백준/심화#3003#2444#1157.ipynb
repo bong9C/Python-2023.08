{
 "cells": [
  {
   "cell_type": "markdown",
   "metadata": {},
   "source": [
    "### 킹, 퀸, 룩, 비숍, 나이트, 폰\n",
    "동혁이는 오래된 창고를 뒤지다가 낡은 체스판과 피스를 발견했다.\n",
    "\n",
    "체스판의 먼지를 털어내고 걸레로 닦으니 그럭저럭 쓸만한 체스판이 되었다. 하지만, 검정색 피스는 모두 있었으나, 흰색 피스는 개수가 올바르지 않았다.\n",
    "\n",
    "체스는 총 16개의 피스를 사용하며, 킹 1개, 퀸 1개, 룩 2개, 비숍 2개, 나이트 2개, 폰 8개로 구성되어 있다.\n",
    "\n",
    "동혁이가 발견한 흰색 피스의 개수가 주어졌을 때, 몇 개를 더하거나 빼야 올바른 세트가 되는지 구하는 프로그램을 작성하시오.\n"
   ]
  },
  {
   "cell_type": "code",
   "execution_count": 6,
   "metadata": {},
   "outputs": [
    {
     "name": "stdout",
     "output_type": "stream",
     "text": [
      "1 0 0 0 0 1\n"
     ]
    }
   ],
   "source": [
    "k,q,l,b,n,p = map(int,input().split())\n",
    "k = 1 +- k\n",
    "q = 1 +- q\n",
    "l = 2 +- l\n",
    "b = 2 +- b\n",
    "n = 2 +- n \n",
    "p = 8 +- p\n",
    "print(k,q,l,b,n,p)"
   ]
  },
  {
   "cell_type": "code",
   "execution_count": 1,
   "metadata": {},
   "outputs": [
    {
     "ename": "TypeError",
     "evalue": "int() argument must be a string, a bytes-like object or a real number, not 'list'",
     "output_type": "error",
     "traceback": [
      "\u001b[1;31m---------------------------------------------------------------------------\u001b[0m",
      "\u001b[1;31mTypeError\u001b[0m                                 Traceback (most recent call last)",
      "Cell \u001b[1;32mIn[1], line 4\u001b[0m\n\u001b[0;32m      1\u001b[0m \u001b[39m# 또 다른 풀이1\u001b[39;00m\n\u001b[0;32m      2\u001b[0m \u001b[39m# king, queen, rook, bishop, knight, pawn\u001b[39;00m\n\u001b[0;32m      3\u001b[0m chess_pieces \u001b[39m=\u001b[39m [\u001b[39m1\u001b[39m, \u001b[39m1\u001b[39m, \u001b[39m2\u001b[39m, \u001b[39m2\u001b[39m, \u001b[39m2\u001b[39m, \u001b[39m8\u001b[39m]\n\u001b[1;32m----> 4\u001b[0m pieces \u001b[39m=\u001b[39m \u001b[39mlist\u001b[39m(\u001b[39mmap\u001b[39m(\u001b[39mint\u001b[39m(chess_pieces)))\n\u001b[0;32m      5\u001b[0m \u001b[39mfor\u001b[39;00m i \u001b[39min\u001b[39;00m \u001b[39mrange\u001b[39m(\u001b[39mlen\u001b[39m(chess_pieces)):\n\u001b[0;32m      6\u001b[0m     \u001b[39mprint\u001b[39m(chess_pieces[i] \u001b[39m-\u001b[39m pieces[i], end\u001b[39m=\u001b[39m\u001b[39m'\u001b[39m\u001b[39m \u001b[39m\u001b[39m'\u001b[39m)\n",
      "\u001b[1;31mTypeError\u001b[0m: int() argument must be a string, a bytes-like object or a real number, not 'list'"
     ]
    }
   ],
   "source": [
    "# 또 다른 풀이1\n",
    "# king, queen, rook, bishop, knight, pawn\n",
    "chess_pieces = [1, 1, 2, 2, 2, 8]\n",
    "pieces = list(map(int(chess_pieces)))\n",
    "for i in range(len(chess_pieces)):\n",
    "    print(chess_pieces[i] - pieces[i], end=' ')"
   ]
  },
  {
   "cell_type": "markdown",
   "metadata": {},
   "source": [
    "### 백준 #2444\n",
    "\n",
    "    ★              - 블랭크의 갯수 뽑아내기\n",
    "   ★★★\n",
    "  ★★★★★\n",
    " ★★★★★★★\n",
    "★★★★★★★★★\n",
    " ★★★★★★★\n",
    "  ★★★★★\n",
    "   ★★★\n",
    "    ★"
   ]
  },
  {
   "cell_type": "code",
   "execution_count": 3,
   "metadata": {},
   "outputs": [
    {
     "name": "stdout",
     "output_type": "stream",
     "text": [
      "    *\n",
      "   ***\n",
      "  *****\n",
      " *******\n",
      "*********\n",
      " *******\n",
      "  *****\n",
      "   ***\n",
      "    *\n"
     ]
    }
   ],
   "source": [
    "N =  5\n",
    "for i in range(N):\n",
    "    line = ' '*(N - i - 1) + '*' * (2 * i + 1)\n",
    "    print(line)\n",
    "for i in range(1, N):\n",
    "    line = ' ' * i + '*' * (2 * (N -i) -1)\n",
    "    print(line)"
   ]
  },
  {
   "cell_type": "markdown",
   "metadata": {},
   "source": [
    "### 백준 #1157\n",
    "- 알파벳 대소문자로 된 단어가 주어지면 가장 많이 사용 된 알파벳이 무엇인지 알아내기."
   ]
  },
  {
   "cell_type": "code",
   "execution_count": 4,
   "metadata": {},
   "outputs": [
    {
     "name": "stdout",
     "output_type": "stream",
     "text": [
      "{'a': 2, 'b': 1, 'c': 1, 'd': 1, 'e': 2, 'f': 1, 'g': 1, 'h': 1, 'i': 1, 'j': 1, 'k': 1, 'l': 1, 'm': 1, 'n': 1, 'o': 4, 'p': 1, 'q': 1, 'r': 2, 's': 1, 't': 1, 'u': 2, 'v': 1, 'w': 1, 'x': 1, 'y': 1, 'z': 1}\n"
     ]
    }
   ],
   "source": [
    "alpha_dict = {}\n",
    "string = 'A quick brown fox jumps over the lazy dog'\n",
    "for i in range(26):\n",
    "    c = chr(ord('a') + i)\n",
    "    alpha_dict[c] = string.lower().count(c)\n",
    "print(alpha_dict)"
   ]
  },
  {
   "cell_type": "code",
   "execution_count": 6,
   "metadata": {},
   "outputs": [
    {
     "data": {
      "text/plain": [
       "[('o', 4), ('a', 2), ('e', 2), ('r', 2), ('u', 2)]"
      ]
     },
     "execution_count": 6,
     "metadata": {},
     "output_type": "execute_result"
    }
   ],
   "source": [
    "alpha_items = list(alpha_dict.items())\n",
    "alpha_items.sort(key=lambda x: x[1], reverse=True)\n",
    "alpha_items[:5]"
   ]
  },
  {
   "cell_type": "markdown",
   "metadata": {},
   "source": [
    "### 백준 # 2738"
   ]
  },
  {
   "cell_type": "code",
   "execution_count": null,
   "metadata": {},
   "outputs": [],
   "source": [
    "A = [[1, 1, 1],[2, 2 ,2],[3, 3, 3]]\n",
    "B = [[3, 3, 3],[4, 4, 4],[5, 5, 100]]\n",
    "C = []\n",
    "for i in range(lan(A)):\n",
    "    temp = []\n",
    "    for k in range(len(A[i])):\n",
    "        temp.append(A[i][k] + B[i][k])\n",
    "    C.append(temp)\n",
    "\n",
    "for i in range(len(C)):\n",
    "    for k in range(len(C[i])):\n",
    "         print(C[i][k], end=' ')\n",
    "    print()\n",
    "\n"
   ]
  },
  {
   "cell_type": "code",
   "execution_count": null,
   "metadata": {},
   "outputs": [],
   "source": [
    "# 선생님의 다른 풀이\n",
    "C = [[0, 0, 0], [0, 0, 0], [0, 0, 0]]\n",
    "for i in range(len(A)):\n",
    "    for k in range(len(A[i])):\n",
    "        C[i][k] = (A[i][k] + B[i][k])\n",
    "\n",
    "for i in range(len(C)):\n",
    "    for k in range(len(C[i])):\n",
    "        print(C[i][k], end=' ')\n",
    "    print()"
   ]
  },
  {
   "cell_type": "markdown",
   "metadata": {},
   "source": [
    "- numpy를 사용해야 하는 이유"
   ]
  },
  {
   "cell_type": "code",
   "execution_count": 7,
   "metadata": {},
   "outputs": [
    {
     "name": "stdout",
     "output_type": "stream",
     "text": [
      "[[1 1 1]\n",
      " [2 2 2]\n",
      " [3 3 3]]\n"
     ]
    }
   ],
   "source": [
    "import numpy as np\n",
    "A = np.array([[1, 1, 1],[2, 2 ,2],[3, 3, 3]])\n",
    "print(A)"
   ]
  },
  {
   "cell_type": "code",
   "execution_count": 9,
   "metadata": {},
   "outputs": [
    {
     "name": "stdout",
     "output_type": "stream",
     "text": [
      "[[  3   3   3]\n",
      " [  4   4   4]\n",
      " [  5   5 100]]\n"
     ]
    }
   ],
   "source": [
    "B = np.array([[3, 3, 3],[4, 4, 4],[5, 5, 100]])\n",
    "print(B)"
   ]
  },
  {
   "cell_type": "code",
   "execution_count": 10,
   "metadata": {},
   "outputs": [
    {
     "name": "stdout",
     "output_type": "stream",
     "text": [
      "[[  4   4   4]\n",
      " [  6   6   6]\n",
      " [  8   8 103]]\n"
     ]
    }
   ],
   "source": [
    "# 백터화 연산\n",
    "C = A + B\n",
    "print(C)"
   ]
  }
 ],
 "metadata": {
  "kernelspec": {
   "display_name": "base",
   "language": "python",
   "name": "python3"
  },
  "language_info": {
   "codemirror_mode": {
    "name": "ipython",
    "version": 3
   },
   "file_extension": ".py",
   "mimetype": "text/x-python",
   "name": "python",
   "nbconvert_exporter": "python",
   "pygments_lexer": "ipython3",
   "version": "3.11.4"
  },
  "orig_nbformat": 4
 },
 "nbformat": 4,
 "nbformat_minor": 2
}
