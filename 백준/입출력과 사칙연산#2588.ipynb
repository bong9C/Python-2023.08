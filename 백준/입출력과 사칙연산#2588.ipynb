{
 "cells": [
  {
   "cell_type": "markdown",
   "metadata": {},
   "source": [
    "## 곱셈\n",
    "### 2588번문제\n",
    "(https://www.acmicpc.net/problem/2588)\n",
    "\n"
   ]
  },
  {
   "cell_type": "code",
   "execution_count": 5,
   "metadata": {},
   "outputs": [
    {
     "name": "stdout",
     "output_type": "stream",
     "text": [
      "2360\n",
      "3776\n",
      "1416\n",
      "181720\n"
     ]
    }
   ],
   "source": [
    "a = int(input())\n",
    "b = int(input())\n",
    "\n",
    "print(a*(b%10))\n",
    "print(a*(b%100//10))\n",
    "print(a*(b//100))\n",
    "print(a*b)\n",
    "\n",
    "\n",
    " \n"
   ]
  },
  {
   "cell_type": "code",
   "execution_count": null,
   "metadata": {},
   "outputs": [],
   "source": [
    "# 또 다른 풀이\n",
    "\n",
    "m, n = map(int, input().split())\n",
    "\n",
    "print(f'3: {m * ((n // 1) % 10)}')      # ( n // 10 ** 0) % 10\n",
    "print(f'4: {m * ((n // 10) % 10)}')     # ( n // 10 ** 1) % 10\n",
    "print(f'5: {m * ((n // 100)% 10)}')     # ( n // 10 ** 2) % 10\n",
    "print(f'6: {m * n }')"
   ]
  }
 ],
 "metadata": {
  "kernelspec": {
   "display_name": "base",
   "language": "python",
   "name": "python3"
  },
  "language_info": {
   "codemirror_mode": {
    "name": "ipython",
    "version": 3
   },
   "file_extension": ".py",
   "mimetype": "text/x-python",
   "name": "python",
   "nbconvert_exporter": "python",
   "pygments_lexer": "ipython3",
   "version": "3.11.4"
  },
  "orig_nbformat": 4
 },
 "nbformat": 4,
 "nbformat_minor": 2
}
