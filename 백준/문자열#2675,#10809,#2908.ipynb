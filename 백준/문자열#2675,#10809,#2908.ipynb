{
 "cells": [
  {
   "cell_type": "markdown",
   "metadata": {},
   "source": [
    "### 문자열 반복\n",
    "### #2675 https://www.acmicpc.net/problem/2675\n",
    "\n",
    "문자열 S를 입력받은 후에, 각 문자를 R번 반복해 새 문자열 P를 만든 후 출력하는 프로그램을 작성하시오. 즉, 첫 번째 문자를 R번 반복하고, 두 번째 문자를 R번 반복하는 식으로 P를 만들면 된다. S에는 QR Code \"alphanumeric\" 문자만 들어있다.\n",
    "\n",
    "QR Code \"alphanumeric\" 문자는 0123456789ABCDEFGHIJKLMNOPQRSTUVWXYZ\\$%*+-./: 이다."
   ]
  },
  {
   "cell_type": "code",
   "execution_count": 21,
   "metadata": {},
   "outputs": [
    {
     "name": "stdout",
     "output_type": "stream",
     "text": [
      "AAABBBCCC\n",
      "/////HHHHHTTTTTPPPPP\n"
     ]
    }
   ],
   "source": [
    "s = int(input())\n",
    "for _ in range(s):\n",
    "    count, word = input().split()\n",
    "    for r in word:\n",
    "        print(r*int(count), end='')\n",
    "    print()\n"
   ]
  },
  {
   "cell_type": "code",
   "execution_count": 5,
   "metadata": {},
   "outputs": [
    {
     "name": "stdout",
     "output_type": "stream",
     "text": [
      "[['3', 'ABC'], ['5', '/HTP']]\n"
     ]
    }
   ],
   "source": [
    "# 또 다른 풀이 \n",
    "\n",
    "T = int(input())\n",
    "test_case = []\n",
    "for _ in range(T):\n",
    "    cmd = input().split()\n",
    "    test_case.append(cmd)\n",
    "print(test_case)"
   ]
  },
  {
   "cell_type": "code",
   "execution_count": 6,
   "metadata": {},
   "outputs": [
    {
     "name": "stdout",
     "output_type": "stream",
     "text": [
      "AAABBBCCC\n",
      "/////HHHHHTTTTTPPPPP\n"
     ]
    }
   ],
   "source": [
    "for R, S in test_case:\n",
    "    result = ''\n",
    "    r = int(R)\n",
    "    for s in S:\n",
    "        result += s * r\n",
    "    print(result)"
   ]
  },
  {
   "cell_type": "markdown",
   "metadata": {},
   "source": [
    "### 알파벳찾기\n",
    "### #10809 https://www.acmicpc.net/problem/10809\n",
    "\n",
    "문제\n",
    "알파벳 소문자로만 이루어진 단어 S가 주어진다. 각각의 알파벳에 대해서, 단어에 포함되어 있는 경우에는 처음 등장하는 위치를, 포함되어 있지 않은 경우에는 -1을 출력하는 프로그램을 작성하시오.\n",
    "\n",
    "입력\n",
    "첫째 줄에 단어 S가 주어진다. 단어의 길이는 100을 넘지 않으며, 알파벳 소문자로만 이루어져 있다.\n",
    "\n",
    "출력\n",
    "각각의 알파벳에 대해서, a가 처음 등장하는 위치, b가 처음 등장하는 위치, ... z가 처음 등장하는 위치를 공백으로 구분해서 출력한다.\n",
    "\n",
    "만약, 어떤 알파벳이 단어에 포함되어 있지 않다면 -1을 출력한다. 단어의 첫 번째 글자는 0번째 위치이고, 두 번째 글자는 1번째 위치이다."
   ]
  },
  {
   "cell_type": "code",
   "execution_count": 9,
   "metadata": {},
   "outputs": [
    {
     "name": "stdout",
     "output_type": "stream",
     "text": [
      "0 -1 -1 -1 4 -1 -1 -1 -1 -1 -1 3 -1 -1 -1 1 -1 -1 -1 -1 -1 -1 -1 -1 -1 -1 "
     ]
    }
   ],
   "source": [
    "s = input()\n",
    "a = 'abcdefghijklmnopqrstuvwxyz'\n",
    "for i in a:\n",
    "    if i in s:\n",
    "        print(s.index(i), end=' ')\n",
    "    else:\n",
    "        print(-1,end=' ')"
   ]
  },
  {
   "cell_type": "code",
   "execution_count": 7,
   "metadata": {},
   "outputs": [
    {
     "name": "stdout",
     "output_type": "stream",
     "text": [
      "{'a': -1, 'b': -1, 'c': -1, 'd': -1, 'e': -1, 'f': -1, 'g': -1, 'h': -1, 'i': -1, 'j': -1, 'k': -1, 'l': -1, 'm': -1, 'n': -1, 'o': -1, 'p': -1, 'q': -1, 'r': -1, 's': -1, 't': -1, 'u': -1, 'v': -1, 'w': -1, 'x': -1, 'y': -1, 'z': -1}\n"
     ]
    }
   ],
   "source": [
    "# 또 다른 풀이1\n",
    "char_dict = {}\n",
    "for i in range(26):\n",
    "    c = chr(ord('a') + i)\n",
    "    char_dict[c] = -1\n",
    "print(char_dict)"
   ]
  },
  {
   "cell_type": "code",
   "execution_count": 9,
   "metadata": {},
   "outputs": [
    {
     "name": "stdout",
     "output_type": "stream",
     "text": [
      "1 0 -1 -1 2 -1 -1 -1 -1 4 3 -1 -1 7 5 -1 -1 -1 -1 -1 -1 -1 -1 -1 -1 -1 "
     ]
    }
   ],
   "source": [
    "word = 'baekjoon'\n",
    "for i in range(26):\n",
    "    c = chr(ord('a') + i)\n",
    "    print(word.find(c), end=' ')"
   ]
  },
  {
   "cell_type": "code",
   "execution_count": 10,
   "metadata": {},
   "outputs": [
    {
     "name": "stdout",
     "output_type": "stream",
     "text": [
      "{'a': 0, 'b': 8, 'c': 5, 'd': -1, 'e': -1, 'f': 14, 'g': -1, 'h': -1, 'i': 4, 'j': -1, 'k': 6, 'l': -1, 'm': 12, 'n': -1, 'o': 10, 'p': -1, 'q': 2, 'r': 9, 's': -1, 't': -1, 'u': 3, 'v': -1, 'w': 11, 'x': 16, 'y': -1, 'z': -1}\n"
     ]
    }
   ],
   "source": [
    "# 또 다른 풀이2\n",
    "char_dict = {}\n",
    "word = 'a quick browm fox'\n",
    "for i in range(26):\n",
    "    c = chr(ord('a') + i)\n",
    "    char_dict[c] = word.find(c)     # find()는 찾는 문자열이 없으면 -1을 리턴함.\n",
    "print(char_dict)"
   ]
  },
  {
   "cell_type": "markdown",
   "metadata": {},
   "source": [
    "### 백준 #2908"
   ]
  },
  {
   "cell_type": "code",
   "execution_count": null,
   "metadata": {},
   "outputs": [],
   "source": [
    "for i in range(3):\n",
    "    m, n = input().split()\n",
    "    m_, n_ = int(m[::-1]), int(n[::-1])\n",
    "    max_val = m_ if m_ >= n_else n_\n",
    "    print(f'{m}, {n}: {max_val}')"
   ]
  }
 ],
 "metadata": {
  "kernelspec": {
   "display_name": "base",
   "language": "python",
   "name": "python3"
  },
  "language_info": {
   "codemirror_mode": {
    "name": "ipython",
    "version": 3
   },
   "file_extension": ".py",
   "mimetype": "text/x-python",
   "name": "python",
   "nbconvert_exporter": "python",
   "pygments_lexer": "ipython3",
   "version": "3.11.4"
  },
  "orig_nbformat": 4
 },
 "nbformat": 4,
 "nbformat_minor": 2
}
